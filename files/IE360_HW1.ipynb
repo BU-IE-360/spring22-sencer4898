{
 "cells": [
  {
   "cell_type": "markdown",
   "id": "531da5e2",
   "metadata": {},
   "source": [
    "# IE 360 Assignment 1"
   ]
  },
  {
   "cell_type": "markdown",
   "id": "46105644",
   "metadata": {},
   "source": [
    "## Introduction"
   ]
  },
  {
   "cell_type": "markdown",
   "id": "ee1329e4",
   "metadata": {},
   "source": [
    "### In this assignment, we are going to propose an argument about relation of some statistics. We will ask some questions and investigate relevant time series to answer these questions."
   ]
  },
  {
   "cell_type": "markdown",
   "id": "788f00e5",
   "metadata": {},
   "source": [
    "## Research Question"
   ]
  },
  {
   "cell_type": "markdown",
   "id": "9376ca60",
   "metadata": {},
   "source": [
    "### We will start with the question of \"Is the Selling Price of Republic Gold related with Consumer Price Index?\". When we think of the gold selling price, it is not necessarily an accurate indicator of prices of consumer goods in the short term. The problem is that gold prices track the overall economy better than CPI because investors are faster to react to the macroeconomic changes, however, producers generally do not reflect these changes to prices of goods instantly. Still, in the long term, CPI should track the overall economy as well, with some lag. Therefore, we expect these statistics to be correlated."
   ]
  },
  {
   "cell_type": "markdown",
   "id": "0877534c",
   "metadata": {},
   "source": [
    "### Another related statistic might be (Household) Credit Card Payments Index. CPI reflects the prices of consumer goods. Credit cards are used to buy goods. If prices of goods increase, credit card spendings for these goods should increase as well. Therefore, we expect Credit Card Payments Index to be correlated with CPI."
   ]
  },
  {
   "cell_type": "markdown",
   "id": "a31c600e",
   "metadata": {},
   "source": [
    "### If there is a high percent increase in CPI, this can be a result of recession. In recession, low production causes prices to increase, due to demand being higher than supply. If production is lower than normal, there should be higher number of unemployed people, specially unqualified employees that work in factories. If there are higher number of unemployed unqualified people, we expect job search volume of İŞKUR to increase. It is because unqualified people generally ask government for assistance and İŞKUR is a governmental organization."
   ]
  },
  {
   "cell_type": "markdown",
   "id": "a65229f1",
   "metadata": {},
   "source": [
    "### We can compare CPI change rate with search volumes for different periods. Equivalently, we can compare CPI with cumulative sum of search volumes as well. Due to its convenience, we will opt for second option."
   ]
  },
  {
   "cell_type": "markdown",
   "id": "536f1c7b",
   "metadata": {},
   "source": [
    "## Coding Part"
   ]
  },
  {
   "cell_type": "code",
   "execution_count": 63,
   "id": "2623a8b8",
   "metadata": {
    "scrolled": true
   },
   "outputs": [],
   "source": [
    "# Import required libraries\n",
    "\n",
    "require(readxl)\n",
    "require(data.table)\n",
    "setwd('D:\\\\Ders\\\\5_Spring 2022 Lectures\\\\IE 360\\\\Homework')"
   ]
  },
  {
   "cell_type": "code",
   "execution_count": 93,
   "id": "d02feae0",
   "metadata": {},
   "outputs": [],
   "source": [
    "# Read data, rename columns and convert date column to date type\n",
    "\n",
    "data_ = read_excel('EVDS_2.xlsx')\n",
    "\n",
    "data1 = data.table(data_)\n",
    "colnames(data1) = c('date', 'credit_card_payments', 'republic_gold_selprice', 'consumer_price_index')\n",
    "data1$date = as.Date(paste(data1$date,\"-01\",sep=\"\"))"
   ]
  },
  {
   "cell_type": "code",
   "execution_count": 94,
   "id": "eab7c57a",
   "metadata": {},
   "outputs": [],
   "source": [
    "# Prepare trends data\n",
    "\n",
    "iskur = read.csv('iskur.csv', skip=1, col.names=c('date', 'iskur_search'))\n",
    "iskur$date = as.Date(paste(iskur$date,\"-01\",sep=\"\"))"
   ]
  },
  {
   "cell_type": "code",
   "execution_count": 95,
   "id": "6aaf4a6a",
   "metadata": {},
   "outputs": [],
   "source": [
    "# Convert search volume to cumulative sum of the search volume so that it will be comparable to macroeconomic indicators.\n",
    "\n",
    "iskur$iskur_search = cumsum(iskur$iskur_search)"
   ]
  },
  {
   "cell_type": "code",
   "execution_count": 96,
   "id": "1351905d",
   "metadata": {},
   "outputs": [],
   "source": [
    "temp_data = copy(data1)\n",
    "temp_data = temp_data[complete.cases(temp_data),]  # Select rows with no missing value.\n",
    "\n",
    "# Convert variables from chr to numeric.\n",
    "temp_data$credit_card_payments = as.numeric(temp_data$credit_card_payments)"
   ]
  },
  {
   "cell_type": "code",
   "execution_count": 97,
   "id": "af7aa6a2",
   "metadata": {},
   "outputs": [],
   "source": [
    "# Merge EVDS data with Trends data\n",
    "\n",
    "temp_data = merge(x=temp_data, y=iskur, on='date')"
   ]
  },
  {
   "cell_type": "code",
   "execution_count": 98,
   "id": "cdd19a8e",
   "metadata": {},
   "outputs": [],
   "source": [
    "# Scale variables so that it is easier to compare/plot them.\n",
    "\n",
    "for(i in 2:5){\n",
    "  temp_data[,i] = scale(temp_data[,i,with=FALSE])\n",
    "}\n",
    "\n",
    "# Assign prepared 'temp_data' object to variable named 'data', for ease of use.\n",
    "\n",
    "data = temp_data"
   ]
  },
  {
   "cell_type": "code",
   "execution_count": 116,
   "id": "e293de29",
   "metadata": {},
   "outputs": [
    {
     "data": {
      "image/png": "[encoded data removed]",
      "text/plain": [
       "Plot with title \"Comparison of Time Series\""
      ]
     },
     "metadata": {},
     "output_type": "display_data"
    }
   ],
   "source": [
    "# Plot all the series\n",
    "\n",
    "plot(data$date, data$credit_card_payments, type='l', col='red', xlab='Date',\n",
    "     ylab='Scaled Magnitudes')\n",
    "lines(data$date, data$iskur_search, col='green')\n",
    "lines(data$date, data$republic_gold_selprice, col='blue')\n",
    "lines(data$date, data$consumer_price_index, col='orange')\n",
    "legend(x = \"topleft\",# Position\n",
    "       legend = c(\"Cumulative ISKUR Search Volume\", \"Republic Gold Selling Price\", \"Consumer Price Index\",\n",
    "                  \"Household Credit Card Payments Index\"),  # Legend texts\n",
    "       lty = c(1, 1, 1, 1), # Line types\n",
    "       col = c('green', 'blue', 'orange', 'red'), # Line colors\n",
    "       lwd = 1)\n",
    "title(\"Comparison of Time Series\")"
   ]
  },
  {
   "cell_type": "markdown",
   "id": "0467478f",
   "metadata": {},
   "source": [
    "### As we can see, scaled versions of the variables are highly correlated with each other. There is a sharp decrease in the credit card payments in the 2020, which we know is due to COVID. Even after that decrease, credit card payments rapidly increased and got on track with other statistics."
   ]
  },
  {
   "cell_type": "code",
   "execution_count": 112,
   "id": "1ad91156",
   "metadata": {},
   "outputs": [],
   "source": [
    "# Calculate correlation between variables\n",
    "\n",
    "cor_credit_gold = cor(data$credit_card_payments, data$republic_gold_selprice)\n",
    "cor_credict_cpi = cor(data$credit_card_payments, data$consumer_price_index)\n",
    "cor_credit_iskur = cor(data$credit_card_payments, data$iskur_search)\n",
    "cor_gold_cpi = cor(data$republic_gold_selprice, data$consumer_price_index)\n",
    "cor_gold_iskur = cor(data$republic_gold_selprice, data$iskur_search)\n",
    "cor_cpi_iskur = cor(data$consumer_price_index, data$iskur_search)"
   ]
  },
  {
   "cell_type": "code",
   "execution_count": 113,
   "id": "417f8aee",
   "metadata": {},
   "outputs": [
    {
     "name": "stdout",
     "output_type": "stream",
     "text": [
      "[1] \"Correlation between credit card payments index and republic gold selling price: 0.9563\"\n",
      "[1] \"Correlation between credit card payments index and consumer price index: 0.9612\"\n",
      "[1] \"Correlation between credit card payments index and 'iskur' cumulative search volume: 0.908\"\n",
      "[1] \"Correlation between republic gold selling price and consumer price index: 0.9796\"\n",
      "[1] \"Correlation between republic gold selling price and 'iskur' cumulative search volume: 0.9267\"\n",
      "[1] \"Correlation between consumer price index and 'iskur' cumulative search volume: 0.9497\"\n"
     ]
    }
   ],
   "source": [
    "# Print correlation coefficients between all the variables\n",
    "\n",
    "print(paste(\"Correlation between credit card payments index and republic gold selling price:\",round(cor_credit_gold,4)))\n",
    "print(paste(\"Correlation between credit card payments index and consumer price index:\",round(cor_credict_cpi,4)))\n",
    "print(paste(\"Correlation between credit card payments index and 'iskur' cumulative search volume:\",round(cor_credit_iskur,4)))\n",
    "print(paste(\"Correlation between republic gold selling price and consumer price index:\",round(cor_gold_cpi,4)))\n",
    "print(paste(\"Correlation between republic gold selling price and 'iskur' cumulative search volume:\",round(cor_gold_iskur,4)))\n",
    "print(paste(\"Correlation between consumer price index and 'iskur' cumulative search volume:\",round(cor_cpi_iskur,4)))"
   ]
  },
  {
   "cell_type": "markdown",
   "id": "9a670b87",
   "metadata": {},
   "source": [
    "### Correlations between all the variables are high ( > 0.7, strongly correlated)."
   ]
  },
  {
   "cell_type": "markdown",
   "id": "8323abcb",
   "metadata": {},
   "source": [
    "## Conclusion"
   ]
  },
  {
   "cell_type": "markdown",
   "id": "af43fbf4",
   "metadata": {},
   "source": [
    "### By our investigations, with the plot and correlation coefficients, we can say that our questions made sense and these statistics are correlated. However, correlation does not imply causation. Even though they are correlated in the time span that we investigated, it might not be the case in the future (i.e. Gold might become obsolete and Bitcoin starts to be used instead). Main idea of this assignment is that some statistics might have relation/correlation with each other. We might use these relations to explain one statistics with another."
   ]
  },
  {
   "cell_type": "markdown",
   "id": "c9d7cffd",
   "metadata": {},
   "source": [
    "## References"
   ]
  },
  {
   "cell_type": "markdown",
   "id": "bdf1863b",
   "metadata": {},
   "source": [
    "* Data is taken from: https://evds2.tcmb.gov.tr/index.php?/evds/serieMarket"
   ]
  }
 ],
 "metadata": {
  "kernelspec": {
   "display_name": "R",
   "language": "R",
   "name": "ir"
  },
  "language_info": {
   "codemirror_mode": "r",
   "file_extension": ".r",
   "mimetype": "text/x-r-source",
   "name": "R",
   "pygments_lexer": "r",
   "version": "3.6.1"
  }
 },
 "nbformat": 4,
 "nbformat_minor": 5
}

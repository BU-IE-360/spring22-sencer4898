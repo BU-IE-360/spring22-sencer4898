{
 "cells": [
  {
   "cell_type": "markdown",
   "id": "4d7b33d2",
   "metadata": {},
   "source": [
    "# IE 360 Project Report"
   ]
  },
  {
   "cell_type": "markdown",
   "id": "f1b7ff69",
   "metadata": {},
   "source": [
    "## Solar Power Forecasting"
   ]
  },
  {
   "cell_type": "markdown",
   "id": "027b9be9",
   "metadata": {},
   "source": [
    "- Nergiz Selin Angın - 2018402117\n",
    "- Halis Oğuz - 2018402129\n",
    "- Mehmet Özer - 2016402129"
   ]
  },
  {
   "cell_type": "markdown",
   "id": "60e72311",
   "metadata": {},
   "source": [
    "## TABLE OF CONTENTS\n",
    "* [Introduction](#introduction)\n",
    "* [Descriptive Analysis](#descriptive_analysis)\n",
    "* [Related Literature](#literature)\n",
    "* [Approach](#approach)\n",
    "* [Methods Excluded From The Final Approach](#excluded)\n",
    "* [Results](#results)\n",
    "* [Conclusion and Future Work](#conclusion)\n",
    "* [Code](#code)"
   ]
  },
  {
   "cell_type": "markdown",
   "id": "603381f4",
   "metadata": {},
   "source": [
    "### INTRODUCTION"
   ]
  },
  {
   "cell_type": "markdown",
   "id": "e71ded85",
   "metadata": {},
   "source": [
    "The problem is to predict the hourly production values of a solar energy plant located in Turkey. A regression approach combined with a time-series model was the first proposition to be used by the group. The data set consisted of hourly production values and weather conditions of the given hours. The data set was in long format, maditr package’s dcast function was used to convert the data to wide format."
   ]
  },
  {
   "cell_type": "markdown",
   "id": "4035a6ff",
   "metadata": {},
   "source": [
    "Also, there were missing production values for 7 days, probably caused by some maintenance or database issue. Therefore, an average of 6 values, the same hour’s production values for the 3 days before and 3 days after is calculated for the corresponding hour and day’s production value. As an example, Şub 20 (February 20) is missing in the data, and its values is filled with mean of corresponding hourly values of past and following 3 days."
   ]
  },
  {
   "cell_type": "markdown",
   "id": "0c57d81a",
   "metadata": {},
   "source": [
    "![missing_values](missing_values.png)"
   ]
  },
  {
   "cell_type": "markdown",
   "id": "32903f6f",
   "metadata": {},
   "source": [
    "The brief explanations for the variables in the data set are provided below:\n",
    "* TEMP: Temperature in units of Kelvin\n",
    "* REL_HUMIDITY: Relative Humidity, in terms of percentage.\n",
    "* DSWRF: Downward Shortwave Radiation Flux\n",
    "* CLOUD_LOW_LAYER: Total cloud cover data for low-level type of clouds, in terms of percentage.\n"
   ]
  },
  {
   "cell_type": "markdown",
   "id": "52efbfb8",
   "metadata": {},
   "source": [
    "There remains one last problem with the target variable after the manipulations given above are applied. The facility was not operating with the full capacity at the time horizon of interest. It is likely that there were additional installations of solar panels/ or some maintenance done during some times that they would cause an unexplainable step drop or increase in the observed production values. A smoothing should be applied to get a picture of the true level at a specific time in the time horizon. A moving average method with parameter k=21 is used which added a column to the data to indicate the production capacity as a variable. 10 days after and before values with the center value is used with an average with equal weights so that one could obtain a clear and unbiased variable for the true production level at that time. The maximum of 21 days and k=11 days period is also evaluated for usage however k=21 average for center value yielded the best results for explaining the production level overall. Thus, k=21 center moving average smoothing is used. The first 10 and last 10 days have no variable due to the fact that they do not have 10 days ahead of them so the first obtained and last obtained value is duplicated. It has been assumed that they provide the least biased information regarding the capacity. "
   ]
  },
  {
   "cell_type": "markdown",
   "id": "4fadc9f8",
   "metadata": {},
   "source": [
    "The solar panel production does not necessarily display a monthly or quarterly seasonality but there was an hourly seasonality during the day. Although the seasons affect the production during a specific hour due to the change in the sunrise, sunset times and the angular degree of the sunlight rays hitting the panels. The data set was not providing a system with stable state but rather it was a system with transient states. Therefore, the evaluation was much harder due to the lack of data with stationarity. "
   ]
  },
  {
   "cell_type": "markdown",
   "id": "75d101e6",
   "metadata": {},
   "source": [
    "Forming 24 distinct models for each hour and evaluating their performances respectively is the approach decided to be executed to this problem. Also, an ARIMA model is formed to the residuals of the regression models formed for each hour to see if there are some auto-regressive components or moving average components that could be used to explain the residuals even further."
   ]
  },
  {
   "cell_type": "markdown",
   "id": "65eccc80",
   "metadata": {},
   "source": [
    "### Descriptive Analysis <a class=\"anchor\" id=\"descriptive_analysis\"></a>"
   ]
  },
  {
   "cell_type": "markdown",
   "id": "805248cf",
   "metadata": {},
   "source": [
    "Original time series data consist of hourly production values for dates from 2021-02-01 to two days before current date. Analyzing the data, we can see that there is an upper limit for the production values, of which production values cannot exceed. Construction of the production facility started in beginning of 2021. For this reason, capacity is small at the beginning of the data and increasing constantly until June 2021. Then, it is constant for some time around 40KWp. It decreases to 35KWp in the beginning of 2022 and stays on that level since (until recently). This maximum capacity change is a significant problem to deal with because linear regression works in an additive manner and it will find the optimal coefficients for an assumed maximum capacity, which will not work well with capacity change."
   ]
  },
  {
   "cell_type": "markdown",
   "id": "2234b076",
   "metadata": {},
   "source": [
    "![production_values](production_values.png)"
   ]
  },
  {
   "cell_type": "markdown",
   "id": "bf9fcbd7",
   "metadata": {},
   "source": [
    "Another problem with the output variable is that it is not normally distributed, violating one of the assumptions of linear regression. Even though we can build a linear regression model with this type of output, it will not be as good. Thus, we tried to make it similar to normal by applying some transformations. Box-cox transformation is the most effective transformation. It is a monotone transformation and covers variety of transformations such as log transformation. Also, squaring the output is another option that we tried. In the images below, we showed the original data, box-cox transformed data with optimal lambda, and squared data."
   ]
  },
  {
   "cell_type": "markdown",
   "id": "38b5436f",
   "metadata": {},
   "source": [
    "<center> <h1>Original Production Distribution</h1> </center>"
   ]
  },
  {
   "cell_type": "markdown",
   "id": "08f90ded",
   "metadata": {},
   "source": [
    "![Output Data](output_distribution.png)"
   ]
  },
  {
   "cell_type": "markdown",
   "id": "690372d0",
   "metadata": {},
   "source": [
    "<center> <h1>Distribution after Box-Cox Transformation with Optimal Lambda</h1> </center>"
   ]
  },
  {
   "cell_type": "markdown",
   "id": "fa4b3c4b",
   "metadata": {},
   "source": [
    "![Box-Cox Data](output_with_boxcox.png)"
   ]
  },
  {
   "cell_type": "markdown",
   "id": "582fbeea",
   "metadata": {},
   "source": [
    "<center> <h1>Distribution after Square Transformation</h1> </center>"
   ]
  },
  {
   "cell_type": "markdown",
   "id": "178ea6c6",
   "metadata": {},
   "source": [
    "![Squared Data](output_squared.png)"
   ]
  },
  {
   "cell_type": "markdown",
   "id": "96dcd26f",
   "metadata": {},
   "source": [
    "Unfortunately, none of the transformation were helpful at getting a normal-like distributed output. We decided to continue with the original output values."
   ]
  },
  {
   "cell_type": "markdown",
   "id": "a485c828",
   "metadata": {},
   "source": [
    "We are also given a weather data, which consists of previous weather values and future forecasts for some categories. These categories are Cloud Low Layer, Relative Humidity, Temperature and DSWRF, each are given their hourly values for 9 different locations. Values of a specific category for different locations are highly correlated because locations are close to each other. Therefore, using values for all locations is not necessary, and might lead to a possible overfitting."
   ]
  },
  {
   "cell_type": "markdown",
   "id": "2a1c7980",
   "metadata": {},
   "source": [
    "![sample_data](sample_data.png)"
   ]
  },
  {
   "cell_type": "markdown",
   "id": "f1bf3d88",
   "metadata": {},
   "source": [
    "Importance of values from each location might differ based on the hour of the day we are aiming to predict. For example, cloud low layer value at facility coordinate is important for hour 12. However, at hour 16, angle of the sunlight changes and sunlight reaching to the facility passes not from the clouds directly above the facility, but from the clouds around that area. Thus, cloud low layer value of another coordinate will be important for this hour."
   ]
  },
  {
   "cell_type": "markdown",
   "id": "e73d56ea",
   "metadata": {},
   "source": [
    "Cloud low layer values and production values are negatively correlated. This is because if the sky is cloudy, sunbeams can’t pass through, therefore decreasing the production.\n",
    "\n",
    "DSWRF values and production values are positively and significantly correlated. They will be useful to predict production values in our model.\n",
    "\n",
    "Relative humidity values are negatively correlated with production. and temperature values are positively correlated with production.\n"
   ]
  },
  {
   "cell_type": "markdown",
   "id": "93014af4",
   "metadata": {},
   "source": [
    "![correlations](correlations.png)"
   ]
  },
  {
   "cell_type": "markdown",
   "id": "85fce491",
   "metadata": {},
   "source": [
    "Newly created smoothed production variable (named as 'capacity' in the code script) is highly correlated (=0.789) with the production value. This variable will be important for our prediction. Only problem is that this variable takes the mean of previous and future 21 days’ production values and fills the remaining values with the last day’s smoothed production value. If we want to predict values near a season change, this variable will create bias and result in an overprediction or underprediction.\n"
   ]
  },
  {
   "cell_type": "markdown",
   "id": "99917fb2",
   "metadata": {},
   "source": [
    "![smoothed_production_correlation](correlation_smoothed_production.png)"
   ]
  },
  {
   "cell_type": "markdown",
   "id": "a63e16b7",
   "metadata": {},
   "source": [
    "There is no production at hours 0, 1, 2, 3, 4, 20, 21, 22 and 23. There is a negligible production at hour 5 only for few days. For these reasons, and because all the hours have their unique patterns (hourly seasonality) hourly models are created for hours 6 to 19.\n"
   ]
  },
  {
   "cell_type": "markdown",
   "id": "5a2f39be",
   "metadata": {},
   "source": [
    "### Related Literature <a class=\"anchor\" id=\"literature\"></a>"
   ]
  },
  {
   "cell_type": "markdown",
   "id": "88a1cf26",
   "metadata": {},
   "source": [
    "Time series analysis models (such as ARIMA and SARIMA) perform relatively good for data with seasonal patterns. However, if the output is heavily affected by the externalities, time series analysis approaches are not enough themselves and regression based approaches are required. Solar energy production data does not have seasonalities similar to a daily gross sales data of a retail company, which has strong weekly and monthly seasonalities. Solar data has somewhat hourly seasonality. It is heavily affected by external variables, such as cloud low layer and DSWRF. For these reasons, we decided to apply linear regression for forecasting to catch effects of externalities. We prepared models for each hour to catch seasonal patterns of each hour. After removing external effects with linear regression, we trained ARIMA model on the residuals to better catch seasonal patterns, if exists any."
   ]
  },
  {
   "cell_type": "markdown",
   "id": "7a1510d0",
   "metadata": {},
   "source": [
    "### Approach <a class=\"anchor\" id=\"approach\"></a>"
   ]
  },
  {
   "cell_type": "markdown",
   "id": "9d7a23bd",
   "metadata": {},
   "source": [
    "#### Monte Carlo Approach"
   ]
  },
  {
   "cell_type": "markdown",
   "id": "98d55176",
   "metadata": {},
   "source": [
    "For hours from 6 to 19, a different model is established for each hour. Considering the historical data, the production of all the remaining hours is considered to be zero. The monte carlo method is used to determine the variables to be used in each model. \"set.seed(500)\" is used in each simulation run to get the same values in each attempt. 4 different weather variables are provided in the data for each of the 9 coordinates. This will make 9 coordinates multiplied with 4 variables, 36 weather variables. When we try to set up a linear model with these weather variables, using more than 2 location values of the same variable disturbs the model. The coefficients of the same variable can appear in opposite signs for different locations. That's why the maximum 2 coordinate values of the same weather variable are evaluated when doing a simulation. Since a separate model was established for each hour, a separate simulation is performed for all the parameters to be used for each hour. 1000 different models using randomly selected weather variable combinations are compared according to weighted mean absolute percentage errors and the variables giving the minimum WMAPE are selected for use in the model. "
   ]
  },
  {
   "cell_type": "markdown",
   "id": "7dc43452",
   "metadata": {},
   "source": [
    "#### Nonlinear Temperature Function as a Variable"
   ]
  },
  {
   "cell_type": "markdown",
   "id": "ce821ac2",
   "metadata": {},
   "source": [
    "The temperature and production variables’ interaction were peculiar in the sense that increasing temperature values up to a certain threshold would increase production however after a certain threshold excessive heat would deteriorate the production. One could say that after a specific value, not known, the production was affected negatively. Therefore, to evaluate the non-linear relation the square of temperature variable is added as a column, and the highest R squared value is searched. The absolute value of the residuals that are above a certain threshold’s correlation with the temperature variable is analyzed and it is seen that they have a negative correlation. Which means that increasing temperature decreases the residuals or increases the predicted value but it deviates from the real value (the residual is far away from 0, or its mean). Also decreasing temperature decreases the prediction greatly so that the bias increases."
   ]
  },
  {
   "cell_type": "markdown",
   "id": "22f3cdf7",
   "metadata": {},
   "source": [
    "Multiplication of temperature squared with absolute value of a temperature value above its mean subtracted from the temperature value, i.e. |ti-285|*ti^2, is used to explain the deterioration of high temperature values on production. It best describes the non-linear relation mentioned above and explains the temperature variable the best. Then a grid search has been used to find the best parameter (for the variable 285) such that it would explain the output the best. "
   ]
  },
  {
   "cell_type": "markdown",
   "id": "29562161",
   "metadata": {},
   "source": [
    "#### ARIMA on the Residuals"
   ]
  },
  {
   "cell_type": "markdown",
   "id": "90f1af93",
   "metadata": {},
   "source": [
    "After determining which weather parameters will be used and the parameter related to the temperature, the model is set for each hour with the specified parameters. Then, the ARIMA model is built on the residuals of the models. The ARIMA model parameters are also found again with grid search. The autoregressive parameter (p) value is simulated from 0 to 15; the differencing parameter (d) value is simulated from 0 to 2; the moving average parameter value (q) is simulated from 0 to 15. The AIC values of the resulting models are compared, and the parameters that give the smallest AIC value are selected as the ARIMA parameters. "
   ]
  },
  {
   "cell_type": "markdown",
   "id": "3886bcaf",
   "metadata": {},
   "source": [
    "Finally, the parameters of the ARIMA model are also determined, and it is decided whether the ARIMA model should be added to the main model by looking at the WMAPEs of both models."
   ]
  },
  {
   "cell_type": "markdown",
   "id": "34a38f25",
   "metadata": {},
   "source": [
    "#### Checking the Residuals"
   ]
  },
  {
   "cell_type": "markdown",
   "id": "d9b560f3",
   "metadata": {},
   "source": [
    "![model residuals](model_residuals.png)"
   ]
  },
  {
   "cell_type": "markdown",
   "id": "581cbe39",
   "metadata": {},
   "source": [
    "After applying all the steps above, we checked the residuals to see if we can improve the model even further. We didn't see any significant autocorrelation for the residuals. Only lags that had ACF values above threshold was Lag 11 and Lag 20, which we couldn't make sense of. Addition of these lags didn't improve the model either, therefore we concluded that residuals were fine in terms of autocorrelation."
   ]
  },
  {
   "cell_type": "markdown",
   "id": "7a48fb22",
   "metadata": {},
   "source": [
    "Residuals were distributed similar to a normal distribution, with some skew to left. Also, they are randomly deviating around 0, therefore we concluded that we can't improve the model with respect to residuals."
   ]
  },
  {
   "cell_type": "markdown",
   "id": "3c9ef27b",
   "metadata": {},
   "source": [
    "![input_residual](input_residual_correlation.png)"
   ]
  },
  {
   "cell_type": "markdown",
   "id": "3c683a75",
   "metadata": {},
   "source": [
    "We checked if the residuals had any significant correlation left with the inputs. There were 0 correlation between residuals and input variables, meaning that we can't improve the model anymore using these input variables."
   ]
  },
  {
   "cell_type": "markdown",
   "id": "f92c57fd",
   "metadata": {},
   "source": [
    "We didn't check CCF values of input variables and residuals because it doesn't make sense that production values are affected by the previous days' weather conditions."
   ]
  },
  {
   "cell_type": "markdown",
   "id": "f7c0a039",
   "metadata": {},
   "source": [
    "### Methods Excluded From The Final Approach <a class=\"anchor\" id=\"excluded\"></a>"
   ]
  },
  {
   "cell_type": "markdown",
   "id": "8b735e08",
   "metadata": {},
   "source": [
    "#### Binary Temperature"
   ]
  },
  {
   "cell_type": "markdown",
   "id": "a2e17f95",
   "metadata": {},
   "source": [
    "The relationship between temperature and production is not linear. It is known that raising temperature values to a certain threshold increases production, but excessive heat after a certain threshold disrupts production. It can be said that production is negatively affected after a certain unknown value. By trying different values, value of 300 found to be performing the best. Therefore, a binary variable has been added to the data (named as 'binary_temp' in the code script). This variable takes the value \"1\" in cases where the average of the temperature values in the 9 coordinates is equal to 300 or more than 300, while in other cases it takes the value “0\". However, when a model is created using this binary variable, the p-value of the variable has become too small. Because of this, we can say that binary variable is insufficient to decipher this nonlinear relationship between temperature and production. As a result, the use of this variable in the model was abandoned."
   ]
  },
  {
   "cell_type": "markdown",
   "id": "4cd8d98b",
   "metadata": {},
   "source": [
    "#### Normalized Production"
   ]
  },
  {
   "cell_type": "markdown",
   "id": "653cf11d",
   "metadata": {},
   "source": [
    "Production capacity, as shown above, changes throughout the data. This makes it harder to fit a linear regression model that predicts the production. For this reason, we created a new variable names 'Normalized Production'. To calculate this variable, we first calculated maximum values in a 21-day window (from -10 to +10 days). These maximum values somehow act as the capacity of the given day. Then, we divided production value to this new value, which is similar to normalizing the output with the capacity (maximum value). Instead of trying to forecast production, we forecasted normalized production and transformed it to production afterwards. This approach seemed promising, however, it performed poorly. Therefore, we chose not to use it."
   ]
  },
  {
   "cell_type": "markdown",
   "id": "0582a052",
   "metadata": {},
   "source": [
    "#### Interaction Terms"
   ]
  },
  {
   "cell_type": "markdown",
   "id": "089f438b",
   "metadata": {},
   "source": [
    "Input and output values do not exactly have a linear relationship between each other. For example, in linear regression, we assume that if value of an input with a positive coefficient keeps increasing, value of output keeps increasing as well. However, even if DSWRF value keeps increasing, if the weather is cloudy, production will not exceed a certain threshold. Therefore, interaction between variables are really important.\n",
    "\n",
    "With this in mind, we introduced new variables that might catch this relation between default variables. Examples of these new variables are:\n",
    "\n",
    "* DSWRF x (100-CLOUD_LOW_LAYER)\n",
    "* DSWRF x (100-RELATIVE_HUMIDITY)\n",
    "\n",
    "CLOUD_LOW_LAYER and RELATIVE_HUMIDITY values are percanteges, therefore we created these variables. First formula implies that in a fully cloudy weather, DSWRF has 0 effect and vice versa. This variables turned out to have nonsignificant effects in the model, therefore we didn't use them."
   ]
  },
  {
   "cell_type": "markdown",
   "id": "02ab0aa2",
   "metadata": {},
   "source": [
    "### Results <a class=\"anchor\" id=\"results\"></a>"
   ]
  },
  {
   "cell_type": "markdown",
   "id": "b420b018",
   "metadata": {},
   "source": [
    "For evaluating the models, multiple metrics have been used in order to detect and attack distinct aspects of the model. Also, the evaluation metrics have been collected for a period of 30 days while training the model again with the additional one day at each step. Therefore, one could say that the training set has been increased by one day after each evaluation,addition of one more hour to each model, and total bias, absolute bias as well as weighted mean absolute deviation have been used for interpretation of the models. For instance, total bias could be 0 which means the test period overall had a close mean value when compared to the predictions however absolute bias could be very high which shows the variance has been estimated inaccurately. Data is overall on the same level as the predictions but they are distinctively apart from fitting onto each other. Weighted mean absolute deviation is a better metric for evaluating the model performances since it is not affected by small values and is scale free. However, total bias and mean absolute bias could also be used to scale the deviation of different hours’ values which would indicate the work to be committed for the different models in order to obtain the most efficient results. As an example, if the model for hour 7 is returning an absolute bias of 250 in contrast if the model for hour 9 is returning an absolute bias of 25 then an improvement in model for hour 7 is going to decrease the overall wmape more. "
   ]
  },
  {
   "cell_type": "markdown",
   "id": "58703383",
   "metadata": {},
   "source": [
    "![alt text](error_metrics.png \"Error Metrics\")"
   ]
  },
  {
   "cell_type": "markdown",
   "id": "89f7d7b7",
   "metadata": {},
   "source": [
    "From the metrics above, one could argue that the hour 10,12,13 and 16’s models are providing biased estimates. Also, hour 7’s model is problematic in the sense that it is capturing the overall level but it deviates from the mean gigantically. The same is true for hour 15 and 17’s models. The problem here is that we have evaluated the models based on the hourly period therefore scales are not removed. From the table above, one could see that WMAPE of hour 19 is 0.2446 whereas its total absolute bias is 5.69. The model for hour 19 has larger WMAPE than the model for hour 14 which has 152 Total Absolute Bias. Therefore, here scale is not removed and WMAPE provides some statistics even if it is not as explanatory as the other two metrics. Total Absolute and Total Bias provide one with meaningful ways that model could be improved through."
   ]
  },
  {
   "cell_type": "markdown",
   "id": "b5747b58",
   "metadata": {},
   "source": [
    "### Conclusion and Future Work <a class=\"anchor\" id=\"conclusion\"></a>"
   ]
  },
  {
   "cell_type": "markdown",
   "id": "09c70598",
   "metadata": {},
   "source": [
    "As a result of our work, we found that the most important variable for each model turned out to be the smoothed production. This is because recent production values are correlated to tomorrow's production values, and it is unlikely that tomorrow will have drastically different values from the near past. Other predictors were expected to be very important, however they turned out to be not that important. This is probably because their effect is more complex and not easy to interpret."
   ]
  },
  {
   "cell_type": "markdown",
   "id": "37e66fff",
   "metadata": {},
   "source": [
    "There could be some other methods and techniques that could yield better or worse results, a trial and error process could be conducted to expose a better approach. There are many things that can be improved by using larger data and different predictors. In order to develop the model, the effects of variables on real-life electricity production can be investigated and variable values could be used in different combinations and with different formulas.\n"
   ]
  },
  {
   "cell_type": "markdown",
   "id": "a7fdcd18",
   "metadata": {},
   "source": [
    "### Code <a class=\"anchor\" id=\"code\"></a>"
   ]
  },
  {
   "cell_type": "markdown",
   "id": "56133480",
   "metadata": {},
   "source": [
    "Data preparation and model training / prediction codes can be found using the links provided below. These are the final codes used for automated prediction each day."
   ]
  },
  {
   "cell_type": "markdown",
   "id": "2754e716",
   "metadata": {},
   "source": [
    "* [Data Preparation](https://github.com/BU-IE-360/spring22-sencer4898/blob/gh-pages/files/Project/codes/data_preparation.r)\n",
    "* [Model Training / Prediction](https://github.com/BU-IE-360/spring22-sencer4898/blob/gh-pages/files/Project/codes/automated_prediction.R)"
   ]
  },
  {
   "cell_type": "markdown",
   "id": "681b1a94",
   "metadata": {},
   "source": [
    "We also used the codes below for determining the best model for each hour seperately."
   ]
  },
  {
   "cell_type": "markdown",
   "id": "57f6b395",
   "metadata": {},
   "source": [
    "* [Variable Selection Using Monte Carlo Approach](https://github.com/BU-IE-360/spring22-sencer4898/blob/gh-pages/files/Project/codes/monte_carlo_for_best_variables.R)\n",
    "* [Grid Search For the Constant in the Proposed Nonlinear Temperature Function](https://github.com/BU-IE-360/spring22-sencer4898/blob/gh-pages/files/Project/codes/gridsearch_for_temperature_constant.R)\n",
    "* [Arima Model Selection on Residuals](https://github.com/BU-IE-360/spring22-sencer4898/blob/gh-pages/files/Project/codes/arima_model_best.R)"
   ]
  }
 ],
 "metadata": {
  "kernelspec": {
   "display_name": "R",
   "language": "R",
   "name": "ir"
  },
  "language_info": {
   "codemirror_mode": "r",
   "file_extension": ".r",
   "mimetype": "text/x-r-source",
   "name": "R",
   "pygments_lexer": "r",
   "version": "3.6.1"
  }
 },
 "nbformat": 4,
 "nbformat_minor": 5
}
